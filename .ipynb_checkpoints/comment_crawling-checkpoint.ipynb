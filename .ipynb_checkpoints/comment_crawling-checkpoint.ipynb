{
 "cells": [
  {
   "cell_type": "code",
   "execution_count": 3,
   "id": "4bb0297e-68d9-498c-9895-0835dd66c06b",
   "metadata": {
    "vscode": {
     "languageId": "python"
    }
   },
   "outputs": [
    {
     "name": "stdout",
     "output_type": "stream",
     "text": [
      "Requirement already satisfied: google-play-scraper in /opt/anaconda3/lib/python3.12/site-packages (1.2.7)\n",
      "Requirement already satisfied: konlpy in /opt/anaconda3/lib/python3.12/site-packages (0.6.0)\n",
      "Requirement already satisfied: JPype1>=0.7.0 in /opt/anaconda3/lib/python3.12/site-packages (from konlpy) (1.5.2)\n",
      "Requirement already satisfied: lxml>=4.1.0 in /opt/anaconda3/lib/python3.12/site-packages (from konlpy) (5.2.1)\n",
      "Requirement already satisfied: numpy>=1.6 in /opt/anaconda3/lib/python3.12/site-packages (from konlpy) (1.26.4)\n",
      "Requirement already satisfied: packaging in /opt/anaconda3/lib/python3.12/site-packages (from JPype1>=0.7.0->konlpy) (24.1)\n",
      "\u001b[33mWARNING: Skipping JPype1-py3 as it is not installed.\u001b[0m\u001b[33m\n",
      "\u001b[0mRequirement already satisfied: JPype1 in /opt/anaconda3/lib/python3.12/site-packages (1.5.2)\n",
      "Requirement already satisfied: packaging in /opt/anaconda3/lib/python3.12/site-packages (from JPype1) (24.1)\n"
     ]
    }
   ],
   "source": [
    "!pip install google-play-scraper\n",
    "!pip install konlpy\n",
    "!pip uninstall JPype1-py3\n",
    "!pip install JPype1\n"
   ]
  },
  {
   "cell_type": "code",
   "execution_count": null,
   "id": "2cf74819-ad44-4a63-8678-8fd4b7f595c9",
   "metadata": {},
   "outputs": [
    {
     "name": "stdout",
     "output_type": "stream",
     "text": [
      "리뷰를 수집 중입니다...\n"
     ]
    }
   ],
   "source": [
    "import re\n",
    "import json\n",
    "from google_play_scraper import reviews, Sort\n",
    "from konlpy.tag import Okt\n",
    "from collections import Counter\n",
    "\n",
    "def fetch_reviews(app_id, total_reviews=1000):\n",
    "    \"\"\"Google Play Store에서 total_reviews 수 만큼 리뷰를 가져옵니다.\"\"\"\n",
    "    all_reviews = []\n",
    "    count = 100  # 한 번에 요청할 리뷰 개수\n",
    "    token = None\n",
    "\n",
    "    while len(all_reviews) < total_reviews:\n",
    "        result, token = reviews(\n",
    "            app_id,\n",
    "            lang='ko',\n",
    "            country='kr',\n",
    "            sort=Sort.NEWEST,\n",
    "            count=count,\n",
    "            continuation_token=token\n",
    "        )\n",
    "        all_reviews.extend(result)\n",
    "        if token is None:\n",
    "            break  # 더 이상 리뷰가 없으면 종료\n",
    "    return all_reviews[:total_reviews]\n",
    "\n",
    "def analyze_reviews(review_list):\n",
    "    \"\"\"리뷰 목록에서 텍스트를 결합하여 명사를 추출한 후 빈도 상위 10개 단어를 반환합니다.\"\"\"\n",
    "    okt = Okt()\n",
    "    # 모든 리뷰의 텍스트를 하나의 문자열로 결합\n",
    "    all_text = \" \".join([review['content'] for review in review_list])\n",
    "    # 한글과 공백을 제외한 문자 제거\n",
    "    all_text = re.sub(r'[^가-힣\\s]', '', all_text)\n",
    "    \n",
    "    # 명사 추출\n",
    "    nouns = okt.nouns(all_text)\n",
    "    \n",
    "    # 불용어 처리 (필요에 따라 추가 가능)\n",
    "    stopwords = set(['이', '그', '저', '것', '들', '의', '있', '하', '되', '수', '때문', '절대', '원래', '관련', '아예', '읍니', '만하','에드','리기'])\n",
    "    # 한 글자 단어 및 불용어 제거\n",
    "    nouns = [noun for noun in nouns if noun not in stopwords and len(noun) > 1]\n",
    "    \n",
    "    counter = Counter(nouns)\n",
    "    top_10 = counter.most_common(10)\n",
    "    return top_10\n",
    "\n",
    "def group_reviews_by_rating(review_list, target_count=10):\n",
    "    \"\"\"\n",
    "    리뷰 목록을 평점(1~5점)별로 그룹화하여 각 평점에서 최대 target_count개의 리뷰만 반환합니다.\n",
    "    \"\"\"\n",
    "    grouped = {1: [], 2: [], 3: [], 4: [], 5: []}\n",
    "    for review in review_list:\n",
    "        score = review.get('score')\n",
    "        if score in grouped and len(grouped[score]) < target_count:\n",
    "            grouped[score].append(review)\n",
    "    return grouped\n",
    "\n",
    "if __name__ == \"__main__\":\n",
    "    app_id = 'com.toodat.android'\n",
    "    \n",
    "    print(\"리뷰를 수집 중입니다...\")\n",
    "    reviews_data = fetch_reviews(app_id, total_reviews=2000)\n",
    "    total_reviews = len(reviews_data)\n",
    "    print(f\"{total_reviews}개의 리뷰를 수집했습니다.\")\n",
    "    \n",
    "    # 전체 리뷰에서 평점별 리뷰 개수를 계산\n",
    "    overall_counts = Counter(review['score'] for review in reviews_data)\n",
    "    \n",
    "    print(\"\\n전체 리뷰 평점별 개수:\")\n",
    "    for score in range(1, 6):\n",
    "        count_for_score = overall_counts.get(score, 0)\n",
    "        print(f\"{score}점 리뷰: {count_for_score}개\")\n",
    "    \n",
    "    print(f\"\\n1점대 리뷰 총 개수: {overall_counts.get(1, 0)}개\")\n",
    "    \n",
    "    # 평점별로 최대 10개씩 리뷰 그룹화 (분석용)\n",
    "    grouped_reviews = group_reviews_by_rating(reviews_data, target_count=2000)\n",
    "    \n",
    "    analysis_result = {}\n",
    "    \n",
    "    # 각 평점 그룹별로 리뷰 분석 수행 및 결과 저장\n",
    "    for score in sorted(grouped_reviews.keys()):\n",
    "        reviews_for_score = grouped_reviews[score]\n",
    "        print(f\"\\n평점 {score}점 리뷰 {len(reviews_for_score)}개 분석:\")\n",
    "        if reviews_for_score:\n",
    "            top_words = analyze_reviews(reviews_for_score)\n",
    "            print(\"가장 많이 나온 단어 TOP 10:\")\n",
    "            for rank, (word, freq) in enumerate(top_words, start=1):\n",
    "                print(f\"{rank}위: {word} - {freq}회\")\n",
    "            # JSON 출력을 위해 tuple을 dict 형태로 변환\n",
    "            analysis_result[str(score)] = {\n",
    "                \"review_count\": len(reviews_for_score),\n",
    "                \"top_words\": [{\"word\": word, \"frequency\": freq} for word, freq in top_words]\n",
    "            }\n",
    "        else:\n",
    "            print(\"해당 평점의 리뷰가 없습니다.\")\n",
    "            analysis_result[str(score)] = {\n",
    "                \"review_count\": 0,\n",
    "                \"top_words\": []\n",
    "            }\n",
    "    \n",
    "    # 최종 결과를 JSON 형태로 구성\n",
    "    result_data = {\n",
    "        \"total_reviews\": total_reviews,\n",
    "        \"overall_counts\": {str(score): overall_counts.get(score, 0) for score in range(1, 6)},\n",
    "        \"analysis\": analysis_result\n",
    "    }\n",
    "    \n"
   ]
  },
  {
   "cell_type": "code",
   "execution_count": null,
   "id": "6a02ca99-4255-492d-9141-0294c3a2a550",
   "metadata": {},
   "outputs": [],
   "source": []
  }
 ],
 "metadata": {
  "kernelspec": {
   "display_name": "Python 3 (ipykernel)",
   "language": "python",
   "name": "python3"
  },
  "language_info": {
   "codemirror_mode": {
    "name": "ipython",
    "version": 3
   },
   "file_extension": ".py",
   "mimetype": "text/x-python",
   "name": "python",
   "nbconvert_exporter": "python",
   "pygments_lexer": "ipython3",
   "version": "3.12.7"
  }
 },
 "nbformat": 4,
 "nbformat_minor": 5
}
